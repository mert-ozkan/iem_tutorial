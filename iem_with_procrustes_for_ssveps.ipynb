{
 "cells": [
  {
   "cell_type": "markdown",
   "metadata": {},
   "source": [
    "# A tutorial for building Inverted Encoding Models on EEG data: An SSVEP study\n",
    "\n",
    "Here I will apply two novel methodologies to fit an IEM to EEG data. The [data](https://osf.io/qx94k/?view_only=e256bebd6e7c4f888a696fb35919913d) come from a study [link](NA) where participants were presented two superimposed dot arrays each of which flickered at a distinct frequency (7.5 and 8.57 Hz). The dataframe is the amplitudes from a fast Fourier transform (FFT) procedure belonging to several participants.\n",
    "\n",
    "The key manipulation was that the attended array's colors was sampled from a narrow or broad range of colors. Let's first examine the dataset."
   ]
  },
  {
   "cell_type": "code",
   "execution_count": null,
   "metadata": {},
   "outputs": [],
   "source": [
    "import pandas as pd\n",
    "import numpy as np\n",
    "\n",
    "# Following function extracts the peak amplitudes for a given set of frequencies\n",
    "def find_local_max(df,n=1, stim_freqs=120/np.array((14,16)), dv = 'fft_amplitude'):\n",
    "\n",
    "    if n != 1: return(Exception(\"n has to be 1 for now.\"))\n",
    "\n",
    "    idx = np.array([np.argmin(np.abs(df['frequency']-fqN)) + n*[-1,0, 1] for fqN in stim_freqs])\n",
    "    peak_idx = np.array([idxN[np.argmax(df.iloc[idxN][dv])] for idxN in idx])\n",
    "    if len(np.unique(peak_idx)) == 1:\n",
    "\n",
    "        if np.argmax(df.iloc[peak_idx + [-1,1]][dv]) == 0: peak_idx[0] += 1\n",
    "        else: peak_idx[1] -= 1\n",
    "\n",
    "    return(df.iloc[peak_idx].assign(search_frequency = stim_freqs))\n",
    "\n",
    "# Our dependent variable is amplitudes\n",
    "dv = \"fft_amplitude\"\n",
    "\n",
    "# These are the stimulation frequencies\n",
    "stim_freqs = 120/np.array((14,16))\n",
    "\n",
    "# The centers of the colors that were presented. The details will be given later.\n",
    "stimulated_color_centers = np.linspace(-180,180,7)[:-1]*np.pi/180\n",
    "\n",
    "# Directly extract peak amplitudes per stimulation frequencies\n",
    "df = (\n",
    "    pd.read_csv('./data/trial_fft_and_snrs_per_channel.csv')\n",
    "    # Pick the first participant's data\n",
    "    .set_index('participant').loc[0].reset_index()\n",
    "    .groupby(['participant','trial','channels'])\n",
    "    .apply(find_local_max)\n",
    "      )\n",
    "df[[\"conditions\",\"target_frequency\",\"color_center\"]] = df['conditions'].str.split('/',expand=True)\n",
    "\n",
    "# Transform the dataframe in a format where features are columns\n",
    "df = pd.pivot_table(df.reset_index(drop=True), \n",
    "               values=[dv],\n",
    "               columns=[\"channels\"],\n",
    "               index=[\"participant\",\"search_frequency\",\"trial\",\"conditions\",\"target_frequency\",\"color_center\"]\n",
    "               ).reset_index()\n",
    "\n",
    "# Housekeeping\n",
    "df[\"target_frequency\"] = df[\"target_frequency\"].replace(\n",
    "                   {\"TargetFreq8\":stim_freqs[0],\"TargetFreq7\":stim_freqs[1]}\n",
    "               )\n",
    "df[\"color_center\"] = df[\"color_center\"].replace({\"Color{}\".format(n):deg for n, deg in zip(range(6),stimulated_color_centers)})\n",
    "df[\"color_center\"] = df[\"color_center\"].where(df['search_frequency'] == df['target_frequency'], \n",
    "                                              other=((((df[\"color_center\"] + np.pi) + np.pi) % (2 * np.pi)) - np.pi))\n",
    "df[\"color_center\"] = np.around(df[\"color_center\"],decimals=5)\n",
    "df['isTargetSNR'] = df['search_frequency'] == df['target_frequency']\n",
    "df.head()"
   ]
  },
  {
   "cell_type": "markdown",
   "metadata": {},
   "source": [
    "Current dataframe contains fft amplitudes per stimulation frequency (7.5 or 8.57 Hz) for every trial. In roughly the half of the trials one stimulation frequency represent the attended and the other the unattended. In the remaining half, reverse is true. Also, the color ranges of the target array were indicated under conditions as 'Broad' or 'Narrow'. Color centers indicate one of 6 equidistant color centers around a isoluminant colorwheel in radians.\n",
    "Each stimulation frequency induces idiosyncratic steady-state evoked potentials (SSVEPs). This idiosyncracity is due to the differences in how neural populations respond to specific frequency. Next, we will minimize the differences due to stimulation frequencies, using Procrustes transformation (REF).\n",
    "\n",
    "## Procrustes Transformation\n",
    "\n",
    "Procrustes transformation is a set of linear transformation on a hyperspace such that the structure of a matrix A is made similar to matrix B on a hyperspace where each feature indicates a coordinate. Each row/observation in matrix A should match the conditions of interest in matrix B since we want corresponding rows to retain its latent structure so that the underlying experimental manipulations would not be affected by this transformation. Therefore, we need to split our dataframe per peak frequency and subsample and order it in a way that each corresponding row represent the same 'conditions', 'target_frequency', and ' color_center'."
   ]
  }
 ],
 "metadata": {
  "language_info": {
   "name": "python"
  }
 },
 "nbformat": 4,
 "nbformat_minor": 2
}
